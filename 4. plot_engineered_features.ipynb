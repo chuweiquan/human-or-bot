{
 "cells": [
  {
   "cell_type": "code",
   "execution_count": 1,
   "metadata": {},
   "outputs": [],
   "source": [
    "import pandas as pd\n",
    "import matplotlib.pyplot as plt\n",
    "import seaborn as sns\n",
    "\n",
    "sns.set_style(\"white\")"
   ]
  },
  {
   "cell_type": "code",
   "execution_count": 2,
   "metadata": {},
   "outputs": [],
   "source": [
    "train = pd.read_csv(\"new_train.csv\")\n",
    "train.drop(train.filter(regex=\"Unname\"),axis=1, inplace=True)"
   ]
  },
  {
   "cell_type": "markdown",
   "metadata": {},
   "source": [
    "### Bots vs Human Instant Response"
   ]
  },
  {
   "cell_type": "code",
   "execution_count": 3,
   "metadata": {},
   "outputs": [
    {
     "data": {
      "text/html": [
       "<div>\n",
       "<style scoped>\n",
       "    .dataframe tbody tr th:only-of-type {\n",
       "        vertical-align: middle;\n",
       "    }\n",
       "\n",
       "    .dataframe tbody tr th {\n",
       "        vertical-align: top;\n",
       "    }\n",
       "\n",
       "    .dataframe thead th {\n",
       "        text-align: right;\n",
       "    }\n",
       "</style>\n",
       "<table border=\"1\" class=\"dataframe\">\n",
       "  <thead>\n",
       "    <tr style=\"text-align: right;\">\n",
       "      <th></th>\n",
       "      <th>inst_resp</th>\n",
       "    </tr>\n",
       "  </thead>\n",
       "  <tbody>\n",
       "    <tr>\n",
       "      <th>0</th>\n",
       "      <td>0.0</td>\n",
       "    </tr>\n",
       "    <tr>\n",
       "      <th>1282</th>\n",
       "      <td>0.0</td>\n",
       "    </tr>\n",
       "    <tr>\n",
       "      <th>1281</th>\n",
       "      <td>0.0</td>\n",
       "    </tr>\n",
       "    <tr>\n",
       "      <th>1277</th>\n",
       "      <td>0.0</td>\n",
       "    </tr>\n",
       "    <tr>\n",
       "      <th>1276</th>\n",
       "      <td>0.0</td>\n",
       "    </tr>\n",
       "    <tr>\n",
       "      <th>...</th>\n",
       "      <td>...</td>\n",
       "    </tr>\n",
       "    <tr>\n",
       "      <th>648</th>\n",
       "      <td>16661.0</td>\n",
       "    </tr>\n",
       "    <tr>\n",
       "      <th>1719</th>\n",
       "      <td>28114.0</td>\n",
       "    </tr>\n",
       "    <tr>\n",
       "      <th>1557</th>\n",
       "      <td>101008.0</td>\n",
       "    </tr>\n",
       "    <tr>\n",
       "      <th>1870</th>\n",
       "      <td>115745.0</td>\n",
       "    </tr>\n",
       "    <tr>\n",
       "      <th>1823</th>\n",
       "      <td>366195.0</td>\n",
       "    </tr>\n",
       "  </tbody>\n",
       "</table>\n",
       "<p>1910 rows × 1 columns</p>\n",
       "</div>"
      ],
      "text/plain": [
       "      inst_resp\n",
       "0           0.0\n",
       "1282        0.0\n",
       "1281        0.0\n",
       "1277        0.0\n",
       "1276        0.0\n",
       "...         ...\n",
       "648     16661.0\n",
       "1719    28114.0\n",
       "1557   101008.0\n",
       "1870   115745.0\n",
       "1823   366195.0\n",
       "\n",
       "[1910 rows x 1 columns]"
      ]
     },
     "execution_count": 3,
     "metadata": {},
     "output_type": "execute_result"
    }
   ],
   "source": [
    "bots_instant_response = train[['inst_resp']][train['outcome'] == 1]\n",
    "bots_instant_response = bots_instant_response.sort_values(by=['inst_resp'], ascending = True)\n",
    "bots_instant_response\n",
    "\n",
    "humans_instant_response = train[['inst_resp']][train['outcome'] == 0]\n",
    "humans_instant_response = humans_instant_response.sort_values(by=['inst_resp'], ascending = True)\n",
    "humans_instant_response"
   ]
  },
  {
   "cell_type": "code",
   "execution_count": 12,
   "metadata": {},
   "outputs": [
    {
     "data": {
      "text/plain": [
       "Text(0.5, 1.0, 'Human')"
      ]
     },
     "execution_count": 12,
     "metadata": {},
     "output_type": "execute_result"
    },
    {
     "data": {
      "image/png": "[encoded data removed]",
      "text/plain": [
       "<Figure size 1152x576 with 2 Axes>"
      ]
     },
     "metadata": {},
     "output_type": "display_data"
    }
   ],
   "source": [
    "bins_list = [0, 10, 20, 30, 40, 50]\n",
    "fig, (ax1, ax2)  = plt.subplots(1, 2,  figsize=(16,8))\n",
    "# ax1.hist(bots_instant_response['inst_resp'], bins=bins_list)\n",
    "ax1.hist(bots_instant_response['inst_resp'], bins=bins_list)\n",
    "ax1.set_title('Bot')\n",
    "ax2.hist(humans_instant_response['inst_resp'], bins=bins_list)\n",
    "ax2.set_title('Human')"
   ]
  },
  {
   "cell_type": "markdown",
   "metadata": {},
   "source": [
    "### Bots vs Human % auction above threshold "
   ]
  },
  {
   "cell_type": "code",
   "execution_count": 5,
   "metadata": {},
   "outputs": [
    {
     "data": {
      "text/html": [
       "<div>\n",
       "<style scoped>\n",
       "    .dataframe tbody tr th:only-of-type {\n",
       "        vertical-align: middle;\n",
       "    }\n",
       "\n",
       "    .dataframe tbody tr th {\n",
       "        vertical-align: top;\n",
       "    }\n",
       "\n",
       "    .dataframe thead th {\n",
       "        text-align: right;\n",
       "    }\n",
       "</style>\n",
       "<table border=\"1\" class=\"dataframe\">\n",
       "  <thead>\n",
       "    <tr style=\"text-align: right;\">\n",
       "      <th></th>\n",
       "      <th>percentage_of_auctions_above_threshold</th>\n",
       "    </tr>\n",
       "  </thead>\n",
       "  <tbody>\n",
       "    <tr>\n",
       "      <th>0</th>\n",
       "      <td>0.0</td>\n",
       "    </tr>\n",
       "    <tr>\n",
       "      <th>1246</th>\n",
       "      <td>0.0</td>\n",
       "    </tr>\n",
       "    <tr>\n",
       "      <th>1245</th>\n",
       "      <td>0.0</td>\n",
       "    </tr>\n",
       "    <tr>\n",
       "      <th>1244</th>\n",
       "      <td>0.0</td>\n",
       "    </tr>\n",
       "    <tr>\n",
       "      <th>1243</th>\n",
       "      <td>0.0</td>\n",
       "    </tr>\n",
       "    <tr>\n",
       "      <th>...</th>\n",
       "      <td>...</td>\n",
       "    </tr>\n",
       "    <tr>\n",
       "      <th>1032</th>\n",
       "      <td>1.0</td>\n",
       "    </tr>\n",
       "    <tr>\n",
       "      <th>512</th>\n",
       "      <td>1.0</td>\n",
       "    </tr>\n",
       "    <tr>\n",
       "      <th>1403</th>\n",
       "      <td>1.0</td>\n",
       "    </tr>\n",
       "    <tr>\n",
       "      <th>566</th>\n",
       "      <td>1.0</td>\n",
       "    </tr>\n",
       "    <tr>\n",
       "      <th>1656</th>\n",
       "      <td>1.0</td>\n",
       "    </tr>\n",
       "  </tbody>\n",
       "</table>\n",
       "<p>1910 rows × 1 columns</p>\n",
       "</div>"
      ],
      "text/plain": [
       "      percentage_of_auctions_above_threshold\n",
       "0                                        0.0\n",
       "1246                                     0.0\n",
       "1245                                     0.0\n",
       "1244                                     0.0\n",
       "1243                                     0.0\n",
       "...                                      ...\n",
       "1032                                     1.0\n",
       "512                                      1.0\n",
       "1403                                     1.0\n",
       "566                                      1.0\n",
       "1656                                     1.0\n",
       "\n",
       "[1910 rows x 1 columns]"
      ]
     },
     "execution_count": 5,
     "metadata": {},
     "output_type": "execute_result"
    }
   ],
   "source": [
    "bots_perc_auction_above_threshold = train[['percentage_of_auctions_above_threshold']][train['outcome'] == 1]\n",
    "bots_perc_auction_above_threshold = bots_perc_auction_above_threshold.sort_values(by=['percentage_of_auctions_above_threshold'], ascending = True)\n",
    "bots_perc_auction_above_threshold\n",
    "\n",
    "human_perc_auction_above_threshold = train[['percentage_of_auctions_above_threshold']][train['outcome'] == 0]\n",
    "human_perc_auction_above_threshold = human_perc_auction_above_threshold.sort_values(by=['percentage_of_auctions_above_threshold'], ascending = True)\n",
    "human_perc_auction_above_threshold"
   ]
  },
  {
   "cell_type": "code",
   "execution_count": 6,
   "metadata": {},
   "outputs": [
    {
     "data": {
      "text/plain": [
       "Text(0.5, 1.0, 'Human')"
      ]
     },
     "execution_count": 6,
     "metadata": {},
     "output_type": "execute_result"
    },
    {
     "data": {
      "image/png": "[encoded data removed]",
      "text/plain": [
       "<Figure size 1152x576 with 2 Axes>"
      ]
     },
     "metadata": {},
     "output_type": "display_data"
    }
   ],
   "source": [
    "fig, (ax1, ax2)  = plt.subplots(1, 2,  figsize=(16,8))\n",
    "ax1.hist(bots_perc_auction_above_threshold['percentage_of_auctions_above_threshold'])\n",
    "ax1.set_title('Bot')\n",
    "ax2.hist(human_perc_auction_above_threshold['percentage_of_auctions_above_threshold'])\n",
    "ax2.set_title('Human')"
   ]
  },
  {
   "cell_type": "code",
   "execution_count": 7,
   "metadata": {},
   "outputs": [
    {
     "data": {
      "text/plain": [
       "<matplotlib.collections.PathCollection at 0x1e8fe112e50>"
      ]
     },
     "execution_count": 7,
     "metadata": {},
     "output_type": "execute_result"
    },
    {
     "data": {
      "image/png": "[encoded data removed]",
      "text/plain": [
       "<Figure size 432x288 with 1 Axes>"
      ]
     },
     "metadata": {},
     "output_type": "display_data"
    }
   ],
   "source": [
    "testing_scatter = train[['percentage_of_auctions_above_threshold','outcome']]\n",
    "plt.scatter(x=testing_scatter['percentage_of_auctions_above_threshold'], y=testing_scatter['outcome'])"
   ]
  },
  {
   "cell_type": "code",
   "execution_count": 8,
   "metadata": {},
   "outputs": [
    {
     "data": {
      "text/html": [
       "<div>\n",
       "<style scoped>\n",
       "    .dataframe tbody tr th:only-of-type {\n",
       "        vertical-align: middle;\n",
       "    }\n",
       "\n",
       "    .dataframe tbody tr th {\n",
       "        vertical-align: top;\n",
       "    }\n",
       "\n",
       "    .dataframe thead th {\n",
       "        text-align: right;\n",
       "    }\n",
       "</style>\n",
       "<table border=\"1\" class=\"dataframe\">\n",
       "  <thead>\n",
       "    <tr style=\"text-align: right;\">\n",
       "      <th></th>\n",
       "      <th>mean_ip_per_auction</th>\n",
       "    </tr>\n",
       "  </thead>\n",
       "  <tbody>\n",
       "    <tr>\n",
       "      <th>236</th>\n",
       "      <td>0.000000</td>\n",
       "    </tr>\n",
       "    <tr>\n",
       "      <th>1729</th>\n",
       "      <td>0.000000</td>\n",
       "    </tr>\n",
       "    <tr>\n",
       "      <th>299</th>\n",
       "      <td>0.000000</td>\n",
       "    </tr>\n",
       "    <tr>\n",
       "      <th>620</th>\n",
       "      <td>0.000000</td>\n",
       "    </tr>\n",
       "    <tr>\n",
       "      <th>1496</th>\n",
       "      <td>0.000000</td>\n",
       "    </tr>\n",
       "    <tr>\n",
       "      <th>...</th>\n",
       "      <td>...</td>\n",
       "    </tr>\n",
       "    <tr>\n",
       "      <th>1870</th>\n",
       "      <td>107.441176</td>\n",
       "    </tr>\n",
       "    <tr>\n",
       "      <th>1823</th>\n",
       "      <td>119.964968</td>\n",
       "    </tr>\n",
       "    <tr>\n",
       "      <th>1557</th>\n",
       "      <td>120.343777</td>\n",
       "    </tr>\n",
       "    <tr>\n",
       "      <th>797</th>\n",
       "      <td>129.000000</td>\n",
       "    </tr>\n",
       "    <tr>\n",
       "      <th>1798</th>\n",
       "      <td>980.000000</td>\n",
       "    </tr>\n",
       "  </tbody>\n",
       "</table>\n",
       "<p>1910 rows × 1 columns</p>\n",
       "</div>"
      ],
      "text/plain": [
       "      mean_ip_per_auction\n",
       "236              0.000000\n",
       "1729             0.000000\n",
       "299              0.000000\n",
       "620              0.000000\n",
       "1496             0.000000\n",
       "...                   ...\n",
       "1870           107.441176\n",
       "1823           119.964968\n",
       "1557           120.343777\n",
       "797            129.000000\n",
       "1798           980.000000\n",
       "\n",
       "[1910 rows x 1 columns]"
      ]
     },
     "execution_count": 8,
     "metadata": {},
     "output_type": "execute_result"
    }
   ],
   "source": [
    "bots_mean_ip_per_auction = train[['mean_ip_per_auction']][train['outcome'] == 1]\n",
    "bots_mean_ip_per_auction = bots_mean_ip_per_auction.sort_values(by=['mean_ip_per_auction'], ascending = True)\n",
    "bots_mean_ip_per_auction\n",
    "\n",
    "human_mean_ip_per_auction = train[['mean_ip_per_auction']][train['outcome'] == 0]\n",
    "human_mean_ip_per_auction = human_mean_ip_per_auction.sort_values(by=['mean_ip_per_auction'], ascending = True)\n",
    "human_mean_ip_per_auction"
   ]
  },
  {
   "cell_type": "code",
   "execution_count": 9,
   "metadata": {},
   "outputs": [
    {
     "data": {
      "text/plain": [
       "Text(0.5, 1.0, 'Human')"
      ]
     },
     "execution_count": 9,
     "metadata": {},
     "output_type": "execute_result"
    },
    {
     "data": {
      "image/png": "[encoded data removed]",
      "text/plain": [
       "<Figure size 1152x576 with 2 Axes>"
      ]
     },
     "metadata": {},
     "output_type": "display_data"
    }
   ],
   "source": [
    "bins_list = [0, 10, 20, 30, 40, 50]\n",
    "fig, (ax1, ax2)  = plt.subplots(1, 2,  figsize=(16,8))\n",
    "ax1.hist(bots_mean_ip_per_auction['mean_ip_per_auction'], bins=bins_list)\n",
    "ax1.set_title('Bot')\n",
    "ax2.hist(human_mean_ip_per_auction['mean_ip_per_auction'], bins=bins_list)\n",
    "ax2.set_title('Human')"
   ]
  },
  {
   "cell_type": "code",
   "execution_count": 10,
   "metadata": {},
   "outputs": [
    {
     "data": {
      "text/html": [
       "<div>\n",
       "<style scoped>\n",
       "    .dataframe tbody tr th:only-of-type {\n",
       "        vertical-align: middle;\n",
       "    }\n",
       "\n",
       "    .dataframe tbody tr th {\n",
       "        vertical-align: top;\n",
       "    }\n",
       "\n",
       "    .dataframe thead th {\n",
       "        text-align: right;\n",
       "    }\n",
       "</style>\n",
       "<table border=\"1\" class=\"dataframe\">\n",
       "  <thead>\n",
       "    <tr style=\"text-align: right;\">\n",
       "      <th></th>\n",
       "      <th>num_bids_per_auction</th>\n",
       "    </tr>\n",
       "  </thead>\n",
       "  <tbody>\n",
       "    <tr>\n",
       "      <th>1511</th>\n",
       "      <td>0.000000</td>\n",
       "    </tr>\n",
       "    <tr>\n",
       "      <th>633</th>\n",
       "      <td>0.000000</td>\n",
       "    </tr>\n",
       "    <tr>\n",
       "      <th>808</th>\n",
       "      <td>0.000000</td>\n",
       "    </tr>\n",
       "    <tr>\n",
       "      <th>1551</th>\n",
       "      <td>0.000000</td>\n",
       "    </tr>\n",
       "    <tr>\n",
       "      <th>1135</th>\n",
       "      <td>0.000000</td>\n",
       "    </tr>\n",
       "    <tr>\n",
       "      <th>...</th>\n",
       "      <td>...</td>\n",
       "    </tr>\n",
       "    <tr>\n",
       "      <th>797</th>\n",
       "      <td>201.083333</td>\n",
       "    </tr>\n",
       "    <tr>\n",
       "      <th>1557</th>\n",
       "      <td>205.755440</td>\n",
       "    </tr>\n",
       "    <tr>\n",
       "      <th>1870</th>\n",
       "      <td>257.439840</td>\n",
       "    </tr>\n",
       "    <tr>\n",
       "      <th>1823</th>\n",
       "      <td>410.058121</td>\n",
       "    </tr>\n",
       "    <tr>\n",
       "      <th>1798</th>\n",
       "      <td>1023.500000</td>\n",
       "    </tr>\n",
       "  </tbody>\n",
       "</table>\n",
       "<p>1910 rows × 1 columns</p>\n",
       "</div>"
      ],
      "text/plain": [
       "      num_bids_per_auction\n",
       "1511              0.000000\n",
       "633               0.000000\n",
       "808               0.000000\n",
       "1551              0.000000\n",
       "1135              0.000000\n",
       "...                    ...\n",
       "797             201.083333\n",
       "1557            205.755440\n",
       "1870            257.439840\n",
       "1823            410.058121\n",
       "1798           1023.500000\n",
       "\n",
       "[1910 rows x 1 columns]"
      ]
     },
     "execution_count": 10,
     "metadata": {},
     "output_type": "execute_result"
    }
   ],
   "source": [
    "bots_num_bids_per_auction = train[['num_bids_per_auction']][train['outcome'] == 1]\n",
    "bots_num_bids_per_auction = bots_num_bids_per_auction.sort_values(by=['num_bids_per_auction'], ascending = True)\n",
    "bots_num_bids_per_auction\n",
    "\n",
    "human_num_bids_per_auction = train[['num_bids_per_auction']][train['outcome'] == 0]\n",
    "human_num_bids_per_auction = human_num_bids_per_auction.sort_values(by=['num_bids_per_auction'], ascending = True)\n",
    "human_num_bids_per_auction"
   ]
  },
  {
   "cell_type": "code",
   "execution_count": 11,
   "metadata": {},
   "outputs": [
    {
     "data": {
      "text/plain": [
       "Text(0.5, 1.0, 'Human')"
      ]
     },
     "execution_count": 11,
     "metadata": {},
     "output_type": "execute_result"
    },
    {
     "data": {
      "image/png": "[encoded data removed]",
      "text/plain": [
       "<Figure size 1152x576 with 2 Axes>"
      ]
     },
     "metadata": {},
     "output_type": "display_data"
    }
   ],
   "source": [
    "# bins_list = [0, 100, 200, 300, 400, 500]\n",
    "# bins_list = [0, 20, 40, 60, 80, 100]\n",
    "bins_list = [0, 10, 20, 30, 40, 50, 60, 70, 80, 90, 100]\n",
    "# bins_list = [0, 0.1, 0.2, 0.3, 0.4, 0.5, 0.6, 0.7, 0.8, 0.9, 1]\n",
    "\n",
    "fig, (ax1, ax2)  = plt.subplots(1, 2,  figsize=(16,8))\n",
    "ax1.hist(bots_num_bids_per_auction['num_bids_per_auction'], bins=bins_list)\n",
    "ax1.set_title('Bot')\n",
    "ax2.hist(human_num_bids_per_auction['num_bids_per_auction'], bins=bins_list)\n",
    "ax2.set_title('Human')"
   ]
  },
  {
   "cell_type": "code",
   "execution_count": null,
   "metadata": {},
   "outputs": [],
   "source": []
  }
 ],
 "metadata": {
  "kernelspec": {
   "display_name": "Python 3",
   "language": "python",
   "name": "python3"
  },
  "language_info": {
   "codemirror_mode": {
    "name": "ipython",
    "version": 3
   },
   "file_extension": ".py",
   "mimetype": "text/x-python",
   "name": "python",
   "nbconvert_exporter": "python",
   "pygments_lexer": "ipython3",
   "version": "3.8.3"
  }
 },
 "nbformat": 4,
 "nbformat_minor": 4
}
