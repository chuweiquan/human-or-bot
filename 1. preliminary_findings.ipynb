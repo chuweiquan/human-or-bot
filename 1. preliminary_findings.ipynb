{
 "cells": [
  {
   "cell_type": "code",
   "execution_count": 1,
   "metadata": {},
   "outputs": [],
   "source": [
    "import pandas as pd\n",
    "import tensorflow as tf\n",
    "import numpy as np\n",
    "\n",
    "from sklearn.model_selection import train_test_split\n",
    "from sklearn.model_selection import learning_curve\n",
    "from sklearn.model_selection import ShuffleSplit\n",
    "from sklearn.tree import DecisionTreeClassifier\n",
    "from sklearn.ensemble import RandomForestClassifier\n",
    "from xgboost import XGBClassifier\n",
    "from sklearn.metrics import accuracy_score, roc_curve, auc, roc_auc_score\n",
    "from sklearn.linear_model import LogisticRegression\n",
    "\n",
    "from tensorflow.keras.models import Sequential\n",
    "from tensorflow.keras.layers import Dense\n",
    "from tensorflow.keras.wrappers.scikit_learn import KerasClassifier\n",
    "from sklearn.metrics import fbeta_score\n",
    "from sklearn.metrics import classification_report\n",
    "from mlxtend.evaluate import bias_variance_decomp"
   ]
  },
  {
   "cell_type": "code",
   "execution_count": 2,
   "metadata": {},
   "outputs": [],
   "source": [
    "bids_df= pd.read_csv('data/bids.csv')\n",
    "train_df = pd.read_csv('data/train.csv')\n",
    "test_df= pd.read_csv('data/test.csv')"
   ]
  },
  {
   "cell_type": "code",
   "execution_count": 3,
   "metadata": {},
   "outputs": [],
   "source": [
    "bids_unique= bids_df.groupby('bidder_id').nunique()\n",
    "bids_unique = bids_unique.drop([\"bid_id\"],axis = 1)"
   ]
  },
  {
   "cell_type": "code",
   "execution_count": 4,
   "metadata": {},
   "outputs": [],
   "source": [
    "train_set = train_df.merge(bids_unique, how= 'left', on = 'bidder_id')\n",
    "test_set = test_df.merge(bids_unique, how= 'left', on = 'bidder_id')"
   ]
  },
  {
   "cell_type": "code",
   "execution_count": 5,
   "metadata": {},
   "outputs": [
    {
     "name": "stdout",
     "output_type": "stream",
     "text": [
      "TRAIN SET\n",
      "bidder_id           0\n",
      "payment_account     0\n",
      "address             0\n",
      "outcome             0\n",
      "auction            29\n",
      "merchandise        29\n",
      "device             29\n",
      "time               29\n",
      "country            29\n",
      "ip                 29\n",
      "url                29\n",
      "dtype: int64\n",
      "----------------------------------------------------------------------------------------------------\n",
      "TEST SET\n",
      "bidder_id           0\n",
      "payment_account     0\n",
      "address             0\n",
      "auction            70\n",
      "merchandise        70\n",
      "device             70\n",
      "time               70\n",
      "country            70\n",
      "ip                 70\n",
      "url                70\n",
      "dtype: int64\n"
     ]
    }
   ],
   "source": [
    "print(\"TRAIN SET\")\n",
    "print(train_set.isnull().sum())\n",
    "print(\"-\" * 100)\n",
    "print(\"TEST SET\")\n",
    "print(test_set.isnull().sum())"
   ]
  },
  {
   "cell_type": "code",
   "execution_count": 6,
   "metadata": {},
   "outputs": [],
   "source": [
    "train_set.fillna(0,inplace = True)\n",
    "test_set.fillna(0,inplace = True)"
   ]
  },
  {
   "cell_type": "code",
   "execution_count": 7,
   "metadata": {},
   "outputs": [
    {
     "name": "stdout",
     "output_type": "stream",
     "text": [
      "TRAIN SET\n",
      "bidder_id          0\n",
      "payment_account    0\n",
      "address            0\n",
      "outcome            0\n",
      "auction            0\n",
      "merchandise        0\n",
      "device             0\n",
      "time               0\n",
      "country            0\n",
      "ip                 0\n",
      "url                0\n",
      "dtype: int64\n",
      "----------------------------------------------------------------------------------------------------\n",
      "TEST SET\n",
      "bidder_id          0\n",
      "payment_account    0\n",
      "address            0\n",
      "auction            0\n",
      "merchandise        0\n",
      "device             0\n",
      "time               0\n",
      "country            0\n",
      "ip                 0\n",
      "url                0\n",
      "dtype: int64\n"
     ]
    }
   ],
   "source": [
    "print(\"TRAIN SET\")\n",
    "print(train_set.isnull().sum())\n",
    "print(\"-\" * 100)\n",
    "print(\"TEST SET\")\n",
    "print(test_set.isnull().sum())"
   ]
  },
  {
   "cell_type": "code",
   "execution_count": 8,
   "metadata": {},
   "outputs": [],
   "source": [
    "X = train_set.drop(columns=['bidder_id', 'payment_account', 'address', 'outcome']) \n",
    "y = train_set['outcome']\n",
    "X_test_original = test_set.drop(columns=['bidder_id', 'payment_account', 'address'])"
   ]
  },
  {
   "cell_type": "code",
   "execution_count": 29,
   "metadata": {},
   "outputs": [
    {
     "data": {
      "text/plain": [
       "Text(0.5, 1.0, 'Distribution of Human to Bot Bidders')"
      ]
     },
     "execution_count": 29,
     "metadata": {},
     "output_type": "execute_result"
    },
    {
     "data": {
      "image/png": "[encoded data removed]",
      "text/plain": [
       "<Figure size 432x288 with 1 Axes>"
      ]
     },
     "metadata": {
      "needs_background": "light"
     },
     "output_type": "display_data"
    }
   ],
   "source": [
    "distribution = y.value_counts()\n",
    "plt.bar([\"0\", \"1\"], distribution, color=['green','red'])\n",
    "plt.title(\"Distribution of Human to Bot Bidders\")"
   ]
  },
  {
   "cell_type": "code",
   "execution_count": 9,
   "metadata": {},
   "outputs": [],
   "source": [
    "def evaluate(model, X_train, y_train, X_test, y_test):\n",
    "    print(\"TRAIN\")\n",
    "    train_predictions = model.predict_proba(X_train)\n",
    "    train_pred = model.predict(X_train)\n",
    "        \n",
    "    train_accuracy = accuracy_score(y_train, train_pred)\n",
    "    train_auc_roc_score = roc_auc_score(y_train,train_predictions[:,1])\n",
    "    train_fbeta = fbeta_score(y_train, train_pred, average='binary', beta=2.0)\n",
    "    \n",
    "    print(\"Classification report\")\n",
    "    print(classification_report(y_train, train_pred, digits = 4))\n",
    "    \n",
    "    print(\"FBeta Score\")\n",
    "    print(fbeta_score(y_train, train_pred, average='binary', beta=2.0))\n",
    "    \n",
    "    print('Model Performance')\n",
    "    print('Accuracy = {:0.4f}%.'.format(train_accuracy))\n",
    "    print('AUC ROC = {:0.4f}%.'.format(train_auc_roc_score))\n",
    "    print(\"*\" * 100)\n",
    "    \n",
    "    print(\"TEST\")\n",
    "    \n",
    "    test_predictions = model.predict_proba(X_test)\n",
    "    test_pred = model.predict(X_test)\n",
    "        \n",
    "    test_accuracy = accuracy_score(y_test, test_pred)\n",
    "    test_auc_roc_score = roc_auc_score(y_test,test_predictions[:,1])\n",
    "    test_fbeta = fbeta_score(y_test, test_pred, average='binary', beta=2.0)\n",
    "    \n",
    "    print(\"Classification report\")\n",
    "    print(classification_report(y_test, test_pred, digits = 4))\n",
    "    \n",
    "    print(\"FBeta Score\")\n",
    "    print(fbeta_score(y_test, test_pred, average='binary', beta=2.0))\n",
    "    \n",
    "    print('Model Performance')\n",
    "    print('Accuracy = {:0.4f}%.'.format(test_accuracy))\n",
    "    print('AUC ROC = {:0.4f}%.'.format(test_auc_roc_score))\n",
    "    print(\"*\" * 100)\n",
    "    \n",
    "    return [train_accuracy, train_auc_roc_score, train_fbeta, test_accuracy, test_auc_roc_score, test_fbeta]\n",
    "\n",
    "def process_results(arr):\n",
    "    train_accuracy = []\n",
    "    train_auc_roc_score = [] \n",
    "    train_fbeta = []\n",
    "    test_accuracy = []\n",
    "    test_auc_roc_score = []\n",
    "    test_fbeta = []\n",
    "    \n",
    "    for item in arr:\n",
    "        train_accuracy.append(item[0])\n",
    "        train_auc_roc_score.append(item[1])\n",
    "        train_fbeta.append(item[2])\n",
    "        test_accuracy.append(item[3])\n",
    "        test_auc_roc_score.append(item[4])\n",
    "        test_fbeta.append(item[5])\n",
    "    \n",
    "    mean_accuracy = np.array(train_accuracy).mean()\n",
    "    mean_train_auc_roc_score = np.array(train_auc_roc_score).mean()\n",
    "    mean_train_fbeta = np.array(train_fbeta).mean()\n",
    "    mean_test_accuracy = np.array(test_accuracy).mean()\n",
    "    mean_test_auc_roc_score = np.array(test_auc_roc_score).mean()\n",
    "    mean_test_fbeta = np.array(test_fbeta).mean()\n",
    "    \n",
    "    print(\"final train accuracy: \" + str(mean_accuracy))\n",
    "    print(\"final train AUC: \" + str(mean_train_auc_roc_score))\n",
    "    print(\"final train fbeta: \" + str(mean_train_fbeta))\n",
    "    print(\"final test accuracy: \" + str(mean_test_accuracy))\n",
    "    print(\"final test AUC: \" + str(mean_test_auc_roc_score))\n",
    "    print(\"final test fbeta: \" + str(mean_test_fbeta))"
   ]
  },
  {
   "cell_type": "code",
   "execution_count": 10,
   "metadata": {},
   "outputs": [],
   "source": [
    "X_train, X_test, y_train, y_test = train_test_split(X, y, test_size=0.3, random_state=42)"
   ]
  },
  {
   "cell_type": "code",
   "execution_count": 11,
   "metadata": {},
   "outputs": [],
   "source": [
    "def create_model(learn_rate=0.01, momentum=0):\n",
    "    # create model\n",
    "    model = Sequential()\n",
    "    model.add(Dense(64, activation='relu'))\n",
    "    model.add(Dense(64, activation='relu'))\n",
    "    model.add(Dense(1, activation='sigmoid'))\n",
    "    # Compile model\n",
    "    model.compile(loss='binary_crossentropy', optimizer='adam', metrics=['accuracy'])\n",
    "    return model\n",
    "\n",
    "dt = DecisionTreeClassifier(random_state=42)\n",
    "rf = RandomForestClassifier(random_state=42)\n",
    "xgb = XGBClassifier(random_state=42)\n",
    "ann = KerasClassifier(build_fn=create_model, verbose=0)"
   ]
  },
  {
   "cell_type": "code",
   "execution_count": 12,
   "metadata": {},
   "outputs": [
    {
     "name": "stdout",
     "output_type": "stream",
     "text": [
      "TRAIN\n",
      "Classification report\n",
      "              precision    recall  f1-score   support\n",
      "\n",
      "         0.0     0.9970    1.0000    0.9985      1333\n",
      "         1.0     1.0000    0.9474    0.9730        76\n",
      "\n",
      "    accuracy                         0.9972      1409\n",
      "   macro avg     0.9985    0.9737    0.9857      1409\n",
      "weighted avg     0.9972    0.9972    0.9971      1409\n",
      "\n",
      "FBeta Score\n",
      "0.9574468085106381\n",
      "Model Performance\n",
      "Accuracy = 0.9972%.\n",
      "AUC ROC = 0.9961%.\n",
      "****************************************************************************************************\n",
      "TEST\n",
      "Classification report\n",
      "              precision    recall  f1-score   support\n",
      "\n",
      "         0.0     0.9686    0.9636    0.9661       577\n",
      "         1.0     0.3000    0.3333    0.3158        27\n",
      "\n",
      "    accuracy                         0.9354       604\n",
      "   macro avg     0.6343    0.6485    0.6410       604\n",
      "weighted avg     0.9388    0.9354    0.9370       604\n",
      "\n",
      "FBeta Score\n",
      "0.32608695652173914\n",
      "Model Performance\n",
      "Accuracy = 0.9354%.\n",
      "AUC ROC = 0.6109%.\n",
      "****************************************************************************************************\n"
     ]
    },
    {
     "data": {
      "text/plain": [
       "[0.9971611071682044,\n",
       " 0.99605164449007,\n",
       " 0.9574468085106381,\n",
       " 0.9354304635761589,\n",
       " 0.6108543552217728,\n",
       " 0.32608695652173914]"
      ]
     },
     "execution_count": 12,
     "metadata": {},
     "output_type": "execute_result"
    }
   ],
   "source": [
    "dt.fit(X_train, y_train)\n",
    "evaluate(dt, X_train, y_train, X_test, y_test)"
   ]
  },
  {
   "cell_type": "code",
   "execution_count": 13,
   "metadata": {},
   "outputs": [
    {
     "name": "stdout",
     "output_type": "stream",
     "text": [
      "TRAIN\n",
      "Classification report\n",
      "              precision    recall  f1-score   support\n",
      "\n",
      "         0.0     0.9970    1.0000    0.9985      1333\n",
      "         1.0     1.0000    0.9474    0.9730        76\n",
      "\n",
      "    accuracy                         0.9972      1409\n",
      "   macro avg     0.9985    0.9737    0.9857      1409\n",
      "weighted avg     0.9972    0.9972    0.9971      1409\n",
      "\n",
      "FBeta Score\n",
      "0.9574468085106381\n",
      "Model Performance\n",
      "Accuracy = 0.9972%.\n",
      "AUC ROC = 0.9854%.\n",
      "****************************************************************************************************\n",
      "TEST\n",
      "Classification report\n",
      "              precision    recall  f1-score   support\n",
      "\n",
      "         0.0     0.9631    0.9965    0.9796       577\n",
      "         1.0     0.7143    0.1852    0.2941        27\n",
      "\n",
      "    accuracy                         0.9603       604\n",
      "   macro avg     0.8387    0.5909    0.6368       604\n",
      "weighted avg     0.9520    0.9603    0.9489       604\n",
      "\n",
      "FBeta Score\n",
      "0.21739130434782608\n",
      "Model Performance\n",
      "Accuracy = 0.9603%.\n",
      "AUC ROC = 0.8841%.\n",
      "****************************************************************************************************\n"
     ]
    },
    {
     "data": {
      "text/plain": [
       "[0.9971611071682044,\n",
       " 0.9854305681683578,\n",
       " 0.9574468085106381,\n",
       " 0.9602649006622517,\n",
       " 0.8840747159637974,\n",
       " 0.21739130434782608]"
      ]
     },
     "execution_count": 13,
     "metadata": {},
     "output_type": "execute_result"
    }
   ],
   "source": [
    "rf.fit(X_train, y_train)\n",
    "evaluate(rf, X_train, y_train, X_test, y_test)"
   ]
  },
  {
   "cell_type": "code",
   "execution_count": 14,
   "metadata": {},
   "outputs": [
    {
     "name": "stdout",
     "output_type": "stream",
     "text": [
      "[15:22:10] WARNING: C:/Users/Administrator/workspace/xgboost-win64_release_1.3.0/src/learner.cc:1061: Starting in XGBoost 1.3.0, the default evaluation metric used with the objective 'binary:logistic' was changed from 'error' to 'logloss'. Explicitly set eval_metric if you'd like to restore the old behavior."
     ]
    },
    {
     "name": "stderr",
     "output_type": "stream",
     "text": [
      "C:\\Anaconda\\lib\\site-packages\\xgboost\\sklearn.py:888: UserWarning: The use of label encoder in XGBClassifier is deprecated and will be removed in a future release. To remove this warning, do the following: 1) Pass option use_label_encoder=False when constructing XGBClassifier object; and 2) Encode your labels (y) as integers starting with 0, i.e. 0, 1, 2, ..., [num_class - 1].\n",
      "  warnings.warn(label_encoder_deprecation_msg, UserWarning)\n"
     ]
    },
    {
     "name": "stdout",
     "output_type": "stream",
     "text": [
      "\n",
      "TRAIN\n",
      "Classification report\n",
      "              precision    recall  f1-score   support\n",
      "\n",
      "         0.0     0.9970    1.0000    0.9985      1333\n",
      "         1.0     1.0000    0.9474    0.9730        76\n",
      "\n",
      "    accuracy                         0.9972      1409\n",
      "   macro avg     0.9985    0.9737    0.9857      1409\n",
      "weighted avg     0.9972    0.9972    0.9971      1409\n",
      "\n",
      "FBeta Score\n",
      "0.9574468085106381\n",
      "Model Performance\n",
      "Accuracy = 0.9972%.\n",
      "AUC ROC = 0.9909%.\n",
      "****************************************************************************************************\n",
      "TEST\n",
      "Classification report\n",
      "              precision    recall  f1-score   support\n",
      "\n",
      "         0.0     0.9711    0.9896    0.9803       577\n",
      "         1.0     0.6250    0.3704    0.4651        27\n",
      "\n",
      "    accuracy                         0.9619       604\n",
      "   macro avg     0.7980    0.6800    0.7227       604\n",
      "weighted avg     0.9556    0.9619    0.9572       604\n",
      "\n",
      "FBeta Score\n",
      "0.40322580645161293\n",
      "Model Performance\n",
      "Accuracy = 0.9619%.\n",
      "AUC ROC = 0.8507%.\n",
      "****************************************************************************************************\n"
     ]
    },
    {
     "data": {
      "text/plain": [
       "[0.9971611071682044,\n",
       " 0.9908792987720615,\n",
       " 0.9574468085106381,\n",
       " 0.9619205298013245,\n",
       " 0.85069645034983,\n",
       " 0.40322580645161293]"
      ]
     },
     "execution_count": 14,
     "metadata": {},
     "output_type": "execute_result"
    }
   ],
   "source": [
    "xgb.fit(X_train, y_train)\n",
    "evaluate(xgb, X_train, y_train, X_test, y_test)"
   ]
  },
  {
   "cell_type": "code",
   "execution_count": 15,
   "metadata": {},
   "outputs": [
    {
     "name": "stdout",
     "output_type": "stream",
     "text": [
      "TRAIN\n",
      "Classification report"
     ]
    },
    {
     "name": "stderr",
     "output_type": "stream",
     "text": [
      "C:\\Anaconda\\lib\\site-packages\\tensorflow\\python\\keras\\engine\\sequential.py:425: UserWarning: `model.predict_proba()` is deprecated and will be removed after 2021-01-01. Please use `model.predict()` instead.\n",
      "  warnings.warn('`model.predict_proba()` is deprecated and '\n",
      "C:\\Anaconda\\lib\\site-packages\\tensorflow\\python\\keras\\engine\\sequential.py:450: UserWarning: `model.predict_classes()` is deprecated and will be removed after 2021-01-01. Please use instead:* `np.argmax(model.predict(x), axis=-1)`,   if your model does multi-class classification   (e.g. if it uses a `softmax` last-layer activation).* `(model.predict(x) > 0.5).astype(\"int32\")`,   if your model does binary classification   (e.g. if it uses a `sigmoid` last-layer activation).\n",
      "  warnings.warn('`model.predict_classes()` is deprecated and '\n",
      "C:\\Anaconda\\lib\\site-packages\\tensorflow\\python\\keras\\engine\\sequential.py:425: UserWarning: `model.predict_proba()` is deprecated and will be removed after 2021-01-01. Please use `model.predict()` instead.\n",
      "  warnings.warn('`model.predict_proba()` is deprecated and '\n"
     ]
    },
    {
     "name": "stdout",
     "output_type": "stream",
     "text": [
      "\n",
      "              precision    recall  f1-score   support\n",
      "\n",
      "         0.0     0.9498    0.9370    0.9434      1333\n",
      "         1.0     0.1064    0.1316    0.1176        76\n",
      "\n",
      "    accuracy                         0.8935      1409\n",
      "   macro avg     0.5281    0.5343    0.5305      1409\n",
      "weighted avg     0.9043    0.8935    0.8988      1409\n",
      "\n",
      "FBeta Score\n",
      "0.12562814070351758\n",
      "Model Performance\n",
      "Accuracy = 0.8935%.\n",
      "AUC ROC = 0.2630%.\n",
      "****************************************************************************************************\n",
      "TEST\n",
      "Classification report\n",
      "              precision    recall  f1-score   support\n",
      "\n",
      "         0.0     0.9601    0.9185    0.9389       577\n",
      "         1.0     0.0962    0.1852    0.1266        27\n",
      "\n",
      "    accuracy                         0.8858       604\n",
      "   macro avg     0.5281    0.5519    0.5327       604\n",
      "weighted avg     0.9215    0.8858    0.9026       604\n",
      "\n",
      "FBeta Score\n",
      "0.15625\n",
      "Model Performance\n",
      "Accuracy = 0.8858%.\n",
      "AUC ROC = 0.2939%.\n",
      "****************************************************************************************************\n"
     ]
    },
    {
     "name": "stderr",
     "output_type": "stream",
     "text": [
      "C:\\Anaconda\\lib\\site-packages\\tensorflow\\python\\keras\\engine\\sequential.py:450: UserWarning: `model.predict_classes()` is deprecated and will be removed after 2021-01-01. Please use instead:* `np.argmax(model.predict(x), axis=-1)`,   if your model does multi-class classification   (e.g. if it uses a `softmax` last-layer activation).* `(model.predict(x) > 0.5).astype(\"int32\")`,   if your model does binary classification   (e.g. if it uses a `sigmoid` last-layer activation).\n",
      "  warnings.warn('`model.predict_classes()` is deprecated and '\n"
     ]
    },
    {
     "data": {
      "text/plain": [
       "[0.893541518807665,\n",
       " 0.263024637738382,\n",
       " 0.12562814070351758,\n",
       " 0.8857615894039735,\n",
       " 0.2938571153475833,\n",
       " 0.15625]"
      ]
     },
     "execution_count": 15,
     "metadata": {},
     "output_type": "execute_result"
    }
   ],
   "source": [
    "ann.fit(X_train, y_train)\n",
    "evaluate(ann, X_train, y_train, X_test, y_test)"
   ]
  },
  {
   "cell_type": "code",
   "execution_count": 16,
   "metadata": {},
   "outputs": [
    {
     "data": {
      "text/plain": [
       "(1409, 7)"
      ]
     },
     "execution_count": 16,
     "metadata": {},
     "output_type": "execute_result"
    }
   ],
   "source": [
    "X_train.shape"
   ]
  },
  {
   "cell_type": "code",
   "execution_count": 17,
   "metadata": {},
   "outputs": [
    {
     "data": {
      "image/png": "[encoded data removed]",
      "text/plain": [
       "<Figure size 1152x720 with 6 Axes>"
      ]
     },
     "metadata": {
      "needs_background": "light"
     },
     "output_type": "display_data"
    }
   ],
   "source": [
    "import matplotlib.pyplot as plt\n",
    "fig, ax = plt.subplots(2,3, figsize=(16,10))\n",
    "ax[0,0].scatter(train_set['device'], train_set['outcome'])\n",
    "ax[0,0].title.set_text('Device')\n",
    "ax[0,1].scatter(train_set['auction'], train_set['outcome'])\n",
    "ax[0,1].title.set_text('auction')\n",
    "ax[1,0].scatter(train_set['time'], train_set['outcome'])\n",
    "ax[1,0].title.set_text('time')\n",
    "ax[1,1].scatter(train_set['country'], train_set['outcome'])\n",
    "ax[1,1].title.set_text('country')\n",
    "ax[0,2].scatter(train_set['ip'], train_set['outcome'])\n",
    "ax[0,2].title.set_text('ip')\n",
    "ax[1,2].scatter(train_set['url'], train_set['outcome'])\n",
    "ax[1,2].title.set_text('url')"
   ]
  },
  {
   "cell_type": "code",
   "execution_count": null,
   "metadata": {},
   "outputs": [],
   "source": []
  }
 ],
 "metadata": {
  "kernelspec": {
   "display_name": "Python 3",
   "language": "python",
   "name": "python3"
  },
  "language_info": {
   "codemirror_mode": {
    "name": "ipython",
    "version": 3
   },
   "file_extension": ".py",
   "mimetype": "text/x-python",
   "name": "python",
   "nbconvert_exporter": "python",
   "pygments_lexer": "ipython3",
   "version": "3.8.3"
  }
 },
 "nbformat": 4,
 "nbformat_minor": 4
}
